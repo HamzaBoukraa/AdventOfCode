{
 "cells": [
  {
   "cell_type": "code",
   "execution_count": 1,
   "metadata": {
    "tags": []
   },
   "outputs": [],
   "source": [
    "year = '2020'\n",
    "day = '04'\n",
    "\n",
    "with open('..\\..\\Input\\day{1}\\AOC{0}D{1}_input.txt'.format(year, day), 'r') as reader:\n",
    "    puzzle_input = [input_line for input_line in reader.read().split('\\n')]"
   ]
  },
  {
   "cell_type": "code",
   "execution_count": 2,
   "metadata": {
    "tags": []
   },
   "outputs": [
    {
     "output_type": "stream",
     "name": "stdout",
     "text": [
      "Part 1 answer : 770\n"
     ]
    }
   ],
   "source": [
    "# Part 1 :\n",
    "print('Part 1 answer :', len(puzzle_input))"
   ]
  },
  {
   "cell_type": "code",
   "execution_count": 3,
   "metadata": {},
   "outputs": [
    {
     "output_type": "stream",
     "name": "stdout",
     "text": [
      "Part 2 answer : 770\n"
     ]
    }
   ],
   "source": [
    "# Part 2 :\n",
    "print('Part 2 answer :', len(puzzle_input))"
   ]
  }
 ],
 "metadata": {
  "kernelspec": {
   "display_name": "Python 3",
   "language": "python",
   "name": "python3"
  },
  "language_info": {
   "codemirror_mode": {
    "name": "ipython",
    "version": 3
   },
   "file_extension": ".py",
   "mimetype": "text/x-python",
   "name": "python",
   "nbconvert_exporter": "python",
   "pygments_lexer": "ipython3",
   "version": "3.8.5-final"
  }
 },
 "nbformat": 4,
 "nbformat_minor": 4
}
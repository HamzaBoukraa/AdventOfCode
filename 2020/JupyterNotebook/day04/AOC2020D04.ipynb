
{
 "cells": [
  {
   "cell_type": "code",
   "execution_count": 1,
   "metadata": {},
   "outputs": [],
   "source": [
"with open('day4_input.txt', 'r') as reader:\n    passports = [passport for passport in [{key: value for key, value in [field.split(':') for field in line.strip().replace('\n', ' ').split(' ')]} for line in reader.read().split('\n\n')]]\n\n# Part 1 :\nvalid_passports = [passport for passport in passports if len(passport) == 8 or (len(passport) == 7 and not 'cid' in passport)]\n\nprint('Valid passport (part 1):', len(valid_passports))\n\n# Part 2 :\nimport re\nregex_hcl = re.compile(r'#[a-f0-9]{6}\Z')\nregex_pid = re.compile(r'[0-9]{9}\Z')\n\nvalid_passports = [passport for passport in valid_passports if int(passport['byr']) >= 1920 and int(passport['byr']) <= 2002 and int(passport['iyr']) >= 2010 and int(passport['iyr']) <= 2020 and int(passport['eyr']) >= 2020 and int(passport['eyr']) <= 2030 and ((passport['hgt'][-2:] == 'cm' and int(passport['hgt'][:-2]) >= 150 and int(passport['hgt'][:-2]) <= 193) or (passport['hgt'][-2:] == 'in' and int(passport['hgt'][:-2]) >= 59 and int(passport['hgt'][:-2]) <= 76)) and regex_hcl.match(passport['hcl']) and passport['ecl'] in ['amb','blu','brn','gry','grn','hzl','oth'] and regex_pid.match(passport['pid'])]\n\nprint('Valid passport (part 2):', len(valid_passports))"]
  },
  {
   "cell_type": "code",
   "execution_count": 2,
   "metadata": {
    "tags": []
   },
   "outputs": [
    {
     "output_type": "stream",
     "name": "stdout",
     "text": [
      "Valid passport (part 1) : 256\n"
     ]
    }
   ],
   "source": [
    "# Part 1 : \n",
    "print(len([p for p in [(password, len([l for l in password[1] if password[0] == l])) for password in [(input.split(' ')[-2].split(':')[0], input.split(\" \")[-1], int(input.split(' ')[0].split('-')[0]), int(input.split(' ')[0].split('-')[1])) for input in puzzle_input]] if p[1] <= p[0][3] and p[1] >= p[0][2]]), \"good passwords\")"
   ]
  },
  {
   "cell_type": "code",
   "execution_count": 3,
   "metadata": {
    "tags": []
   },
   "outputs": [
    {
     "output_type": "stream",
     "name": "stdout",
     "text": [
      "267 good passwords\n"
     ]
    }
   ],
   "source": [
    "# Part 2 : \n",
    "print(len([password[1] for password in [(input.split(' ')[-2].split(':')[0], input.split(\" \")[-1], int(input.split(' ')[0].split('-')[0]), int(input.split(' ')[0].split('-')[1])) for input in puzzle_input] if password[1][password[2] - 1] != password[1][password[3] - 1] and (password[1][password[2] - 1] == password[0] or password[1][password[3] - 1] == password[0])]), \"good passwords\")"
   ]
  }
 ],
 "metadata": {
  "kernelspec": {
   "display_name": "Python 3",
   "language": "python",
   "name": "python3"
  },
  "language_info": {
   "codemirror_mode": {
    "name": "ipython",
    "version": 3
   },
   "file_extension": ".py",
   "mimetype": "text/x-python",
   "name": "python",
   "nbconvert_exporter": "python",
   "pygments_lexer": "ipython3",
   "version": "3.8.5-final"
  }
 },
 "nbformat": 4,
 "nbformat_minor": 4
}

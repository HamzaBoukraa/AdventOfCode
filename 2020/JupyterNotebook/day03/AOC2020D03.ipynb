{
 "cells": [
  {
   "cell_type": "code",
   "execution_count": 1,
   "metadata": {
    "tags": []
   },
   "outputs": [],
   "source": [
    "year = '2020'\n",
    "day = '03'\n",
    "\n",
    "with open('..\\..\\Input\\day{1}\\AOC{0}D{1}_input.txt'.format(year, day), 'r') as reader:\n",
    "    puzzle_input =  [map_row for map_row in reader.read().split('\\n')]\n",
    "\n",
    "tree = \"#\"\n",
    "moves = [[1, 1], [1, 3], [1, 5], [1, 7], [2, 1]]\n",
    "\n",
    "def process(move_index):\n",
    "    move = moves[move_index]\n",
    "    \n",
    "    down_progression = move[0]\n",
    "    right_progression = move[1]\n",
    "    \n",
    "    cell_index = [0,0]\n",
    "    \n",
    "    trees_count = 0\n",
    "    \n",
    "    while cell_index[0] < len(puzzle_input) - 1:\n",
    "        cell_index[1] += right_progression\n",
    "        cell_index[0] += down_progression\n",
    "        while len(puzzle_input[cell_index[0]]) < cell_index[1]:\n",
    "            puzzle_input[cell_index[0]] += puzzle_input[cell_index[0]]\n",
    "        position = puzzle_input[cell_index[0]][cell_index[1]]\n",
    "        if position == tree:\n",
    "            trees_count += 1\n",
    "    \n",
    "    return trees_count"
   ]
  },
  {
   "cell_type": "code",
   "execution_count": 2,
   "metadata": {
    "tags": []
   },
   "outputs": [
    {
     "output_type": "stream",
     "name": "stdout",
     "text": [
      "Part 1 answer : 171\n"
     ]
    }
   ],
   "source": [
    "# Part 1 : \n",
    "print('Part 1 answer :', process(1))"
   ]
  },
  {
   "cell_type": "code",
   "execution_count": 3,
   "metadata": {},
   "outputs": [
    {
     "output_type": "stream",
     "name": "stdout",
     "text": [
      "Part 2 answer : 1206576000\n"
     ]
    }
   ],
   "source": [
    "# Part 2 :\n",
    "result = 1\n",
    "for step in range(5):\n",
    "    result *= process(step)\n",
    "print('Part 2 answer :', result)"
   ]
  }
 ],
 "metadata": {
  "kernelspec": {
   "display_name": "Python 3",
   "language": "python",
   "name": "python3"
  },
  "language_info": {
   "codemirror_mode": {
    "name": "ipython",
    "version": 3
   },
   "file_extension": ".py",
   "mimetype": "text/x-python",
   "name": "python",
   "nbconvert_exporter": "python",
   "pygments_lexer": "ipython3",
   "version": "3.8.5-final"
  }
 },
 "nbformat": 4,
 "nbformat_minor": 4
}
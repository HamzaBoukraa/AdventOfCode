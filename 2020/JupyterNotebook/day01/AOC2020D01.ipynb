{
 "cells": [
  {
   "cell_type": "code",
   "execution_count": 1,
   "metadata": {},
   "outputs": [],
   "source": [
    "year = '2020'\n",
    "day = '01'\n",
    "\n",
    "with open('..\\..\\Input\\day{1}\\AOC{0}D{1}_input.txt'.format(year, day), 'r') as reader:\n",
    "    puzzle_input =  [int(entry) for entry in reader.read().split('\\n')]"
   ]
  },
  {
   "cell_type": "code",
   "execution_count": 2,
   "metadata": {},
   "outputs": [
    {
     "output_type": "stream",
     "name": "stdout",
     "text": [
      "Part 1 answer : 355875\n"
     ]
    }
   ],
   "source": [
    "# Part 1 :\n",
    "print('Part 1 answer :', [puzzle_input[a] * puzzle_input[b] for a in range(200) for b in range(200) if b > a and puzzle_input[a] + puzzle_input[b] == 2020][0])"
   ]
  },
  {
   "cell_type": "code",
   "execution_count": 3,
   "metadata": {},
   "outputs": [
    {
     "output_type": "stream",
     "name": "stdout",
     "text": [
      "Part 2 answer : 140379120\n"
     ]
    }
   ],
   "source": [
    "# Part 2 :\n",
    "print('Part 2 answer :', [puzzle_input[a] * puzzle_input[b] * puzzle_input[c] for a in range(200) for b in range(200) for c in range(200) if c > b and b > a and puzzle_input[a] + puzzle_input[b] + puzzle_input[c] == 2020][0])"
   ]
  }
 ],
 "metadata": {
  "kernelspec": {
   "display_name": "Python 3",
   "language": "python",
   "name": "python3"
  },
  "language_info": {
   "name": "",
   "version": "3.8.5-final"
  }
 },
 "nbformat": 4,
 "nbformat_minor": 4
}
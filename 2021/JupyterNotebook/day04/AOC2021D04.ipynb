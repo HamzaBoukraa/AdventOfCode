{
 "cells": [
  {
   "cell_type": "code",
   "execution_count": 1,
   "metadata": {
    "tags": []
   },
   "outputs": [],
   "source": [
    "year = '2021'\n",
    "day = '04'\n",
    "\n",
    "with open('..\\..\\Input\\day{1}\\AOC{0}D{1}_input.txt'.format(year, day), 'r') as reader:\n",
    "    puzzle_input =  [entry for entry in reader.read().split('\\n')]\n",
    "\n",
    "bingo_grids = []\n",
    "bingo_grid = []\n",
    "result = 0\n",
    "for line_index in range(len(puzzle_input)):\n",
    "    if line_index == 0:\n",
    "        numbers = [int(n) for n in puzzle_input[line_index].split(\",\")]\n",
    "    else:\n",
    "        if line_index % 6 != 1:\n",
    "            # print(line_index, puzzle_input[line_index])\n",
    "            bingo_line = puzzle_input[line_index].replace(\" \",\"0\")\n",
    "            bingo_grid += [[(int(bingo_line[n]+bingo_line[n+1]),False) for n in range(13) if (n+2)%3==2]]\n",
    "\n",
    "            if len(bingo_grid) == 5:\n",
    "                bingo_grid += [False]\n",
    "                bingo_grids += [bingo_grid]\n",
    "                bingo_grid = []\n",
    "\n",
    "# print(bingo_grids)\n",
    "grids = len(bingo_grids)\n",
    "bingo = False\n",
    "\n",
    "num = 0\n",
    "results = []\n",
    "while not bingo and num < len(numbers) and len([bingo_grids[g][1] for g in range(grids) if bingo_grids[g][-1] == False]) > 0:\n",
    "    number = numbers[num]\n",
    "    n = 0\n",
    "    while n < grids:\n",
    "        if not bingo_grids[n][-1]:\n",
    "            row = 0\n",
    "            while row < 5 and not bingo:\n",
    "                column = 0\n",
    "                while column < 5 and not bingo:\n",
    "                    if number == bingo_grids[n][row][column][0]:\n",
    "                        bingo_grids[n][row][column] = (number, True)\n",
    "                        b = False\n",
    "                        c_t = 0\n",
    "                        for c in range(5):\n",
    "                            if (bingo_grids[n][row][c][1] == True):\n",
    "                                c_t += 1\n",
    "                        if c_t == 5:\n",
    "                            b = True\n",
    "                        else:\n",
    "                            c_t = 0\n",
    "                            for c in range(5):\n",
    "                                if (bingo_grids[n][c][column][1] == True):\n",
    "                                    c_t += 1\n",
    "                            if c_t == 5:\n",
    "                                b = True\n",
    "                        \n",
    "                        if b:\n",
    "                            results += [number * sum([bingo_grids[n][r][c][0] for r in range(5) for c in range(5) if bingo_grids[n][r][c][1] == False])]\n",
    "                            bingo_grids[n][-1] = True\n",
    "\n",
    "                    column += 1\n",
    "                row += 1\n",
    "        n +=1\n",
    "    num += 1\n"
   ]
  },
  {
   "cell_type": "code",
   "execution_count": 2,
   "metadata": {
    "tags": []
   },
   "outputs": [
    {
     "name": "stdout",
     "output_type": "stream",
     "text": [
      "Part 1 answer : 58838\n"
     ]
    }
   ],
   "source": [
    "# Part 1 :\n",
    "print('Part 1 answer :', results[0])"
   ]
  },
  {
   "cell_type": "code",
   "execution_count": 3,
   "metadata": {},
   "outputs": [
    {
     "name": "stdout",
     "output_type": "stream",
     "text": [
      "Part 2 answer : 6256\n"
     ]
    }
   ],
   "source": [
    "# Part 2 :\n",
    "print('Part 2 answer :', results[-1])"
   ]
  }
 ],
 "metadata": {
  "kernelspec": {
   "display_name": "Python 3",
   "language": "python",
   "name": "python3"
  },
  "language_info": {
   "codemirror_mode": {
    "name": "ipython",
    "version": 3
   },
   "file_extension": ".py",
   "mimetype": "text/x-python",
   "name": "python",
   "nbconvert_exporter": "python",
   "pygments_lexer": "ipython3",
   "version": "3.9.5"
  }
 },
 "nbformat": 4,
 "nbformat_minor": 4
}

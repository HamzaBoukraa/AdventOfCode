{
 "cells": [
  {
   "cell_type": "code",
   "execution_count": 1,
   "metadata": {},
   "outputs": [],
   "source": [
    "year = '2021'\n",
    "day = '01'\n",
    "\n",
    "with open('..\\..\\Input\\day{1}\\AOC{0}D{1}_input.txt'.format(year, day), 'r') as reader:\n",
    "    puzzle_input =  [int(entry) for entry in reader.read().split('\\n')]\n",
    "    "
   ]
  },
  {
   "cell_type": "code",
   "execution_count": 2,
   "metadata": {},
   "outputs": [
    {
     "name": "stdout",
     "output_type": "stream",
     "text": [
      "Part 1 answer : 1655\n"
     ]
    }
   ],
   "source": [
    "# Part 1 :\n",
    "print('Part 1 answer :', len([puzzle_input[b] for a in range(len(puzzle_input)) for b in range(len(puzzle_input)) if b == a + 1 and puzzle_input[a] < puzzle_input[b]]))\n"
   ]
  },
  {
   "cell_type": "code",
   "execution_count": 3,
   "metadata": {},
   "outputs": [
    {
     "name": "stdout",
     "output_type": "stream",
     "text": [
      "Part 2 answer : 1683\n"
     ]
    }
   ],
   "source": [
    "# Part 2 :\n",
    "print('Part 2 answer :',len([puzzle_input[a] for a in range(len(puzzle_input)-3) if puzzle_input[a]+puzzle_input[a+1]+puzzle_input[a+2]<puzzle_input[a+1]+puzzle_input[a+2]+puzzle_input[a+3]]))\n"
   ]
  }
 ],
 "metadata": {
  "kernelspec": {
   "display_name": "Python 3",
   "language": "python",
   "name": "python3"
  },
  "language_info": {
   "codemirror_mode": {
    "name": "ipython",
    "version": 3
   },
   "file_extension": ".py",
   "mimetype": "text/x-python",
   "name": "python",
   "nbconvert_exporter": "python",
   "pygments_lexer": "ipython3",
   "version": "3.9.5"
  }
 },
 "nbformat": 4,
 "nbformat_minor": 4
}

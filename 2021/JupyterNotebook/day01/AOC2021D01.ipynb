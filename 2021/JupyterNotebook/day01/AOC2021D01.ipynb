{
 "cells": [
  {
   "cell_type": "code",
   "execution_count": 1,
   "metadata": {},
   "outputs": [],
   "source": [
    "year = '2021'\r\n",
    "day = '01'\r\n",
    "\r\n",
    "with open('..\\..\\Input\\day{1}\\AOC{0}D{1}_input.txt'.format(year, day), 'r') as reader:\r\n",
    "    puzzle_input =  [int(entry) for entry in reader.read().split('\\n')]\r\n",
    "    "
   ]
  },
  {
   "cell_type": "code",
   "execution_count": 2,
   "metadata": {},
   "outputs": [
    {
     "name": "stdout",
     "output_type": "stream",
     "text": [
      "Part 1 answer : 355875\n"
     ]
    }
   ],
   "source": [
    "# Part 1 :\r\n",
    "print('Part 1 answer :', len([puzzle_input[b] for a in range(len(puzzle_input)) for b in range(len(puzzle_input)) if b == a + 1 and puzzle_input[a] < puzzle_input[b]]))\r\n"
   ]
  },
  {
   "cell_type": "code",
   "execution_count": 3,
   "metadata": {},
   "outputs": [
    {
     "name": "stdout",
     "output_type": "stream",
     "text": [
      "Part 2 answer : 140379120\n"
     ]
    }
   ],
   "source": [
    "# Part 2 :\r\n",
    "print('Part 2 answer :',len([puzzle_input[a] for a in range(len(puzzle_input)-3) if puzzle_input[a]+puzzle_input[a+1]+puzzle_input[a+2]<puzzle_input[a+1]+puzzle_input[a+2]+puzzle_input[a+3]]))\r\n"
   ]
  }
 ],
 "metadata": {
  "kernelspec": {
   "display_name": "Python 3",
   "language": "python",
   "name": "python3"
  },
  "language_info": {
   "name": "",
   "version": "3.8.5-final"
  }
 },
 "nbformat": 4,
 "nbformat_minor": 4
}
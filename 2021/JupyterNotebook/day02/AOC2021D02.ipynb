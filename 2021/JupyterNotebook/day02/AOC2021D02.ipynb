{
 "cells": [
  {
   "cell_type": "code",
   "execution_count": 1,
   "metadata": {
    "tags": []
   },
   "outputs": [],
   "source": [
    "year = '2020'\n",
    "day = '02'\n",
    "\n",
    "with open('..\\..\\Input\\day{1}\\AOC{0}D{1}_input.txt'.format(year, day), 'r') as reader:\n",
    "    puzzle_input =  [password for password in reader.read().split('\\n')]"
   ]
  },
  {
   "cell_type": "code",
   "execution_count": 2,
   "metadata": {
    "tags": []
   },
   "outputs": [
    {
     "output_type": "stream",
     "name": "stdout",
     "text": [
      "Part 1 answer : 469\n"
     ]
    }
   ],
   "source": [
    "# Part 1 : \n",
    "print('Part 1 answer :', len([p for p in [(password, len([l for l in password[1] if password[0] == l])) for password in [(input.split(' ')[-2].split(':')[0], input.split(\" \")[-1], int(input.split(' ')[0].split('-')[0]), int(input.split(' ')[0].split('-')[1])) for input in puzzle_input]] if p[1] <= p[0][3] and p[1] >= p[0][2]]))"
   ]
  },
  {
   "cell_type": "code",
   "execution_count": 3,
   "metadata": {},
   "outputs": [
    {
     "output_type": "stream",
     "name": "stdout",
     "text": [
      "Part 2 answer : 267\n"
     ]
    }
   ],
   "source": [
    "# Part 2 : \n",
    "print('Part 2 answer :', len([password[1] for password in [(input.split(' ')[-2].split(':')[0], input.split(\" \")[-1], int(input.split(' ')[0].split('-')[0]), int(input.split(' ')[0].split('-')[1])) for input in puzzle_input] if password[1][password[2] - 1] != password[1][password[3] - 1] and (password[1][password[2] - 1] == password[0] or password[1][password[3] - 1] == password[0])]))"
   ]
  }
 ],
 "metadata": {
  "kernelspec": {
   "display_name": "Python 3",
   "language": "python",
   "name": "python3"
  },
  "language_info": {
   "codemirror_mode": {
    "name": "ipython",
    "version": 3
   },
   "file_extension": ".py",
   "mimetype": "text/x-python",
   "name": "python",
   "nbconvert_exporter": "python",
   "pygments_lexer": "ipython3",
   "version": "3.8.5-final"
  }
 },
 "nbformat": 4,
 "nbformat_minor": 4
}
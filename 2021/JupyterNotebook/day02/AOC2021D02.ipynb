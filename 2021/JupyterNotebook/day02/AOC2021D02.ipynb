{
 "cells": [
  {
   "cell_type": "code",
   "execution_count": 1,
   "metadata": {
    "tags": []
   },
   "outputs": [],
   "source": [
    "year = '2021'\n",
    "day = '02'\n",
    "\n",
    "with open('..\\..\\Input\\day{1}\\AOC{0}D{1}_input.txt'.format(year, day), 'r') as reader:\n",
    "    puzzle_input =  [password for password in reader.read().split('\\n')]"
   ]
  },
  {
   "cell_type": "code",
   "execution_count": 2,
   "metadata": {
    "tags": []
   },
   "outputs": [
    {
     "name": "stdout",
     "output_type": "stream",
     "text": [
      "Part 1 answer : 1989265\n"
     ]
    }
   ],
   "source": [
    "# Part 1 : \n",
    "print('Part 1 answer :', sum([item[1] for item in [[input.split(' ')[0],int(input.split(' ')[1])] for input in puzzle_input] if item[0] == \"forward\"])*(sum([item[1] for item in [[input.split(' ')[0],int(input.split(' ')[1])] for input in puzzle_input] if item[0] == \"down\"])-sum([item[1] for item in [[input.split(' ')[0],int(input.split(' ')[1])] for input in puzzle_input] if item[0] == \"up\"])))"
   ]
  },
  {
   "cell_type": "code",
   "execution_count": 3,
   "metadata": {},
   "outputs": [
    {
     "name": "stdout",
     "output_type": "stream",
     "text": [
      "Part 2 answer : 2089174012\n"
     ]
    }
   ],
   "source": [
    "# Part 2 :\n",
    "depth = 0\n",
    "horizontal_position = 0\n",
    "aim = 0\n",
    "for input in puzzle_input:\n",
    "    instruction = input.split(\" \")[0]\n",
    "    command = int(input.split(\" \")[1])\n",
    "    if instruction == \"forward\":\n",
    "        horizontal_position += command\n",
    "        depth += aim * command\n",
    "    elif instruction == \"down\":\n",
    "        aim += command\n",
    "    elif instruction == \"up\":\n",
    "        aim -= command\n",
    "print('Part 2 answer :', horizontal_position * depth)"
   ]
  }
 ],
 "metadata": {
  "kernelspec": {
   "display_name": "Python 3",
   "language": "python",
   "name": "python3"
  },
  "language_info": {
   "codemirror_mode": {
    "name": "ipython",
    "version": 3
   },
   "file_extension": ".py",
   "mimetype": "text/x-python",
   "name": "python",
   "nbconvert_exporter": "python",
   "pygments_lexer": "ipython3",
   "version": "3.9.5"
  }
 },
 "nbformat": 4,
 "nbformat_minor": 4
}

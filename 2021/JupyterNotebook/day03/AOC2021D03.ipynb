{
 "cells": [
  {
   "cell_type": "code",
   "execution_count": 1,
   "metadata": {
    "tags": []
   },
   "outputs": [],
   "source": [
    "year = '2021'\n",
    "day = '03'\n",
    "\n",
    "with open('..\\..\\Input\\day{1}\\AOC{0}D{1}_input.txt'.format(year, day), 'r') as reader:\n",
    "    puzzle_input =  [map_row for map_row in reader.read().split('\\n')]"
   ]
  },
  {
   "cell_type": "code",
   "execution_count": 2,
   "metadata": {
    "tags": []
   },
   "outputs": [
    {
     "name": "stdout",
     "output_type": "stream",
     "text": [
      "Part 1 answer : 3549854\n"
     ]
    }
   ],
   "source": [
    "\n",
    "gamma_rate = \"\"\n",
    "epsilon_rate = \"\"\n",
    "for pos in range(len(puzzle_input[0])):\n",
    "    zeroes = 0\n",
    "    ones = 0\n",
    "    for input in puzzle_input:\n",
    "        if input[pos] == \"0\":\n",
    "            zeroes += 1\n",
    "        elif input[pos] == \"1\":\n",
    "            ones += 1\n",
    "    if zeroes > ones:\n",
    "        gamma_rate += \"0\"\n",
    "        epsilon_rate += \"1\"\n",
    "    else:\n",
    "        gamma_rate += \"1\"\n",
    "        epsilon_rate += \"0\"\n",
    "    \n",
    "# Part 1 : \n",
    "print('Part 1 answer :', int(gamma_rate,2)*int(epsilon_rate,2))"
   ]
  },
  {
   "cell_type": "code",
   "execution_count": 3,
   "metadata": {},
   "outputs": [
    {
     "name": "stdout",
     "output_type": "stream",
     "text": [
      "Part 2 answer : 3765399\n"
     ]
    }
   ],
   "source": [
    "\n",
    "# Part 2 :\n",
    "puzzle_oxygen = puzzle_input.copy()\n",
    "puzzle_co2 = puzzle_input.copy()\n",
    "while len(puzzle_oxygen)>1 or len(puzzle_co2)>1:\n",
    "    for pos in range(len(puzzle_input[0])):\n",
    "\n",
    "        zeroes_o = 0\n",
    "        ones_o = 0\n",
    "\n",
    "        for input in puzzle_oxygen:\n",
    "            if input[pos] == \"0\":\n",
    "                zeroes_o += 1\n",
    "            elif input[pos] == \"1\":\n",
    "                ones_o += 1\n",
    "\n",
    "        zeroes_co = 0\n",
    "        ones_co = 0\n",
    "\n",
    "        for input in puzzle_co2:\n",
    "            if input[pos] == \"0\":\n",
    "                zeroes_co += 1\n",
    "            elif input[pos] == \"1\":\n",
    "                ones_co += 1\n",
    "\n",
    "        puzzle_index = 0\n",
    "        while puzzle_index < len(puzzle_oxygen) and len(puzzle_oxygen) > 1:\n",
    "            if (zeroes_o > ones_o and puzzle_oxygen[puzzle_index][pos] == \"1\") or (zeroes_o <= ones_o and puzzle_oxygen[puzzle_index][pos] == \"0\"):\n",
    "                puzzle_oxygen.pop(puzzle_index)\n",
    "                puzzle_index -= 1\n",
    "            puzzle_index += 1\n",
    "\n",
    "        puzzle_index = 0\n",
    "        while puzzle_index < len(puzzle_co2) and len(puzzle_co2) > 1:\n",
    "            if (zeroes_co > ones_co and puzzle_co2[puzzle_index][pos] == \"0\") or (zeroes_co <= ones_co and puzzle_co2[puzzle_index][pos] == \"1\"):\n",
    "                puzzle_co2.pop(puzzle_index)\n",
    "                puzzle_index -= 1\n",
    "            puzzle_index += 1\n",
    "\n",
    "print('Part 2 answer :', int(puzzle_oxygen[0],2)*int(puzzle_co2[0],2))"
   ]
  }
 ],
 "metadata": {
  "kernelspec": {
   "display_name": "Python 3",
   "language": "python",
   "name": "python3"
  },
  "language_info": {
   "codemirror_mode": {
    "name": "ipython",
    "version": 3
   },
   "file_extension": ".py",
   "mimetype": "text/x-python",
   "name": "python",
   "nbconvert_exporter": "python",
   "pygments_lexer": "ipython3",
   "version": "3.9.5"
  }
 },
 "nbformat": 4,
 "nbformat_minor": 4
}
